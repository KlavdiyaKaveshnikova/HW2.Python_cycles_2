{
 "cells": [
  {
   "cell_type": "markdown",
   "metadata": {},
   "source": [
    "**Задание 1**. Дан список с визитами по городам и странам. \n",
    "Напишите код, который возвращает отфильтрованный список geo_logs, содержащий только визиты из России."
   ]
  },
  {
   "cell_type": "code",
   "execution_count": 260,
   "metadata": {},
   "outputs": [
    {
     "name": "stdout",
     "output_type": "stream",
     "text": [
      "visit1: Москва, Россия\n",
      "visit3: Владимир, Россия\n",
      "visit7: Тула, Россия\n",
      "visit8: Тула, Россия\n",
      "visit9: Курск, Россия\n",
      "visit10: Архангельск, Россия\n"
     ]
    }
   ],
   "source": [
    "geo_logs = [\n",
    "    {'visit1': ['Москва', 'Россия']},\n",
    "    {'visit2': ['Дели', 'Индия']},\n",
    "    {'visit3': ['Владимир', 'Россия']},\n",
    "    {'visit4': ['Лиссабон', 'Португалия']},\n",
    "    {'visit5': ['Париж', 'Франция']},\n",
    "    {'visit6': ['Лиссабон', 'Португалия']},\n",
    "    {'visit7': ['Тула', 'Россия']},\n",
    "    {'visit8': ['Тула', 'Россия']},\n",
    "    {'visit9': ['Курск', 'Россия']},\n",
    "    {'visit10': ['Архангельск', 'Россия']}\n",
    "]\n",
    "for visit in geo_logs:\n",
    "    for number, place in visit.items():\n",
    "        if place[1] == 'Россия':\n",
    "            print(f'{number}: {place[0]}, {place[1]}')\n",
    "            \n",
    "# если выводить `print(number, place)`, то выводится список со скобками, что мне не очень нравится"
   ]
  },
  {
   "cell_type": "markdown",
   "metadata": {},
   "source": [
    "**Задание 2**. Выведите на экран все уникальные гео-ID из значений словаря ids. Т. е. список вида [213, 15, 54, 119, 98, 35]"
   ]
  },
  {
   "cell_type": "code",
   "execution_count": 270,
   "metadata": {},
   "outputs": [
    {
     "name": "stdout",
     "output_type": "stream",
     "text": [
      "{98, 35, 15, 213, 54, 119}\n"
     ]
    }
   ],
   "source": [
    "ids = {'user1': [213, 213, 213, 15, 213], \n",
    "       'user2': [54, 54, 119, 119, 119], \n",
    "       'user3': [213, 98, 98, 35]}\n",
    "geo_ID = set()\n",
    "for key in ids:\n",
    "    geo_ID.update(ids[key])\n",
    "print(geo_ID)\n",
    "\n",
    "#ну если нужен прям список (и можно даже отсортировать)\n",
    "#print(list(sorted(geo_ID)))"
   ]
  },
  {
   "cell_type": "code",
   "execution_count": 267,
   "metadata": {},
   "outputs": [
    {
     "name": "stdout",
     "output_type": "stream",
     "text": [
      "{98, 35, 15, 213, 54, 119}\n"
     ]
    }
   ],
   "source": [
    "ids = {'user1': [213, 213, 213, 15, 213], \n",
    "       'user2': [54, 54, 119, 119, 119], \n",
    "       'user3': [213, 98, 98, 35]}\n",
    "geo = set()\n",
    "for ID in ids.values():\n",
    "    geo.update(ID)\n",
    "print(geo)"
   ]
  },
  {
   "cell_type": "markdown",
   "metadata": {},
   "source": [
    "**Задание 3**. Дан список поисковых запросов. Получить распределение количества слов в них. \n",
    "Т. е. поисковых запросов из одного - слова 5%, из двух - 7%, из трех - 3% и т.д."
   ]
  },
  {
   "cell_type": "code",
   "execution_count": 84,
   "metadata": {},
   "outputs": [
    {
     "name": "stdout",
     "output_type": "stream",
     "text": [
      "Поисковых запросов, содержащих 3 слова найдено 57.1 процентов\n",
      "Поисковых запросов, содержащих 2 слова найдено 42.9 процентов\n"
     ]
    }
   ],
   "source": [
    "queries = [\n",
    "    'смотреть сериалы онлайн',\n",
    "    'новости спорта',\n",
    "    'афиша кино',\n",
    "    'курс доллара',\n",
    "    'сериалы этим летом',\n",
    "    'курс по питону',\n",
    "    'сериалы про спорт'\n",
    "    \n",
    "]\n",
    "length = []\n",
    "count_num = []\n",
    "for word in queries:\n",
    "    length.append(len(word.split(' ')))\n",
    "for element in length:\n",
    "    count_num.append(length.count(element)/len(length))\n",
    "dictionary = dict(zip(length,count_num))\n",
    "for key, value in dictionary.items():\n",
    "    print(f'Поисковых запросов, содержащих {key} слова найдено {value*100:.1f} процентов')"
   ]
  },
  {
   "cell_type": "markdown",
   "metadata": {},
   "source": [
    "**В следующем варианте мой апгрейд данной задачи. Сергей Кундрюков сказал, что для этой цели не обязательно создавать предварительные списки и можно сразу задействовать словарь, но как это сделать у меня нет ни малейшей идеи. Подскажите, пожалуйста.**"
   ]
  },
  {
   "cell_type": "code",
   "execution_count": 195,
   "metadata": {},
   "outputs": [
    {
     "name": "stdout",
     "output_type": "stream",
     "text": [
      "Из скольких слов состоит запрос: 2\n",
      "37.5 процентов всех запросов составляют запросы из 2 слов\n"
     ]
    }
   ],
   "source": [
    "queries_1 = [\n",
    "    'смотреть сериалы онлайн',\n",
    "    'новости спорта',\n",
    "    'афиша кино',\n",
    "    'курс доллара',\n",
    "    'сериалы этим летом',\n",
    "    'курс по питону',\n",
    "    'сериалы про спорт',\n",
    "    'сериалы про спорт онлайн',\n",
    "]\n",
    "length_1 = []\n",
    "count_num_1 = []\n",
    "for word_1 in queries_1:\n",
    "    length_1.append(len(word_1.split(' ')))\n",
    "for element_1 in length_1:\n",
    "    count_num_1.append(length_1.count(element_1)/len(length_1))\n",
    "dictionary_1 = dict(zip(length_1,count_num_1))\n",
    "key = int(input('Из скольких слов состоит запрос: '))\n",
    "print(f'{dictionary_1[key]*100:.1f} процентов всех запросов составляют запросы из {key} слов')"
   ]
  },
  {
   "cell_type": "markdown",
   "metadata": {},
   "source": [
    "**Задание 4**. Дана статистика рекламных каналов по объемам продаж. Напишите скрипт, который возвращает название канала с максимальным объемом.\n",
    "Т. е. в данном примере скрипт должен возвращать 'yandex'."
   ]
  },
  {
   "cell_type": "code",
   "execution_count": 4,
   "metadata": {
    "scrolled": true
   },
   "outputs": [
    {
     "name": "stdout",
     "output_type": "stream",
     "text": [
      "vk\n"
     ]
    }
   ],
   "source": [
    "stats = {'facebook': 55, 'yandex': 120, 'vk': 140, 'google': 99, 'email': 42, 'ok': 98}\n",
    "for key in stats:\n",
    "    if stats[key] == max(stats.values()):\n",
    "        print(key)"
   ]
  },
  {
   "cell_type": "markdown",
   "metadata": {},
   "source": [
    "**Задание 5**. Напишите код для преобразования произвольного списка вида ['2018-01-01', 'yandex', 'cpc', 100] (он может быть любой длины) в словарь {'2018-01-01': {'yandex': {'cpc': 100}}}"
   ]
  },
  {
   "cell_type": "markdown",
   "metadata": {},
   "source": [
    "**Как эту задачу решить, используя `input()`?**"
   ]
  },
  {
   "cell_type": "code",
   "execution_count": 8,
   "metadata": {},
   "outputs": [
    {
     "name": "stdout",
     "output_type": "stream",
     "text": [
      "'2018-01-01', 'yandex', 'cpc', 100\n",
      "{\"'2018-01-01',\": {\"'yandex',\": {\"'cpc',\": '100'}}}\n"
     ]
    }
   ],
   "source": [
    "L = input().split()\n",
    "Dict_from_L = L[-1]\n",
    "\n",
    "for element in L[-2::-1]:\n",
    "    Dict_from_L = {element: Dict_from_L}\n",
    "print(Dict_from_L)"
   ]
  },
  {
   "cell_type": "markdown",
   "metadata": {},
   "source": [
    "**Это задание из лекции. Вы сказали, что можно попробовать решить задачу, привязав status к средней ЗП. Можно эту задачу решить короче?**"
   ]
  },
  {
   "cell_type": "code",
   "execution_count": 2,
   "metadata": {},
   "outputs": [
    {
     "name": "stdout",
     "output_type": "stream",
     "text": [
      "{'Robert': {'salary': 800, 'bonus': 200, 'status': 'over'}, 'Jane': {'salary': 200, 'bonus': 300, 'status': 'below'}, 'Liza': {'salary': 1300, 'bonus': 200, 'status': 'over'}, 'Richard': {'salary': 500, 'bonus': 1200, 'status': 'below'}} 700.0\n"
     ]
    }
   ],
   "source": [
    "staff_dict = {\n",
    "    'Robert': {'salary': 800, 'bonus': 200}, \n",
    "    'Jane': {'salary': 200, 'bonus': 300}, \n",
    "    'Liza': {'salary': 1300, 'bonus': 200}, \n",
    "    'Richard': {'salary': 500, 'bonus': 1200}\n",
    "}\n",
    "S = 0\n",
    "for info in staff_dict.values():\n",
    "    S += info['salary']\n",
    "for person, info in staff_dict.items():\n",
    "    if info['salary']>(S/len(staff_dict)):\n",
    "        info['status']='over'\n",
    "    else:\n",
    "        info['status']='below'\n",
    "print(staff_dict, S/len(staff_dict)) "
   ]
  },
  {
   "cell_type": "code",
   "execution_count": null,
   "metadata": {},
   "outputs": [],
   "source": []
  }
 ],
 "metadata": {
  "kernelspec": {
   "display_name": "Python 3",
   "language": "python",
   "name": "python3"
  },
  "language_info": {
   "codemirror_mode": {
    "name": "ipython",
    "version": 3
   },
   "file_extension": ".py",
   "mimetype": "text/x-python",
   "name": "python",
   "nbconvert_exporter": "python",
   "pygments_lexer": "ipython3",
   "version": "3.7.6"
  }
 },
 "nbformat": 4,
 "nbformat_minor": 2
}
